{
 "cells": [
  {
   "cell_type": "code",
   "execution_count": 1,
   "id": "b6832482",
   "metadata": {
    "ExecuteTime": {
     "end_time": "2022-03-23T00:41:49.018351Z",
     "start_time": "2022-03-23T00:41:45.247864Z"
    }
   },
   "outputs": [],
   "source": [
    "import river as ri\n",
    "import numpy as np\n"
   ]
  },
  {
   "cell_type": "code",
   "execution_count": 2,
   "id": "5e51333c",
   "metadata": {},
   "outputs": [
    {
     "name": "stdout",
     "output_type": "stream",
     "text": [
      "[5,000] Accuracy: 70.23% – 00:00:04 – 54.37 KB\n",
      "[10,000] Accuracy: 70.97% – 00:00:08 – 94.5 KB\n",
      "[15,000] Accuracy: 71.38% – 00:00:11 – 134.72 KB\n",
      "[20,000] Accuracy: 71.89% – 00:00:15 – 134.43 KB\n",
      "[25,000] Accuracy: 72.34% – 00:00:19 – 185.19 KB\n"
     ]
    },
    {
     "ename": "KeyboardInterrupt",
     "evalue": "",
     "output_type": "error",
     "traceback": [
      "\u001b[1;31m---------------------------------------------------------------------------\u001b[0m",
      "\u001b[1;31mKeyboardInterrupt\u001b[0m                         Traceback (most recent call last)",
      "\u001b[1;32m~\\AppData\\Local\\Temp/ipykernel_10660/4102755458.py\u001b[0m in \u001b[0;36m<module>\u001b[1;34m\u001b[0m\n\u001b[0;32m     24\u001b[0m \u001b[0mrandTreeMetric\u001b[0m \u001b[1;33m=\u001b[0m \u001b[0mri\u001b[0m\u001b[1;33m.\u001b[0m\u001b[0mmetrics\u001b[0m\u001b[1;33m.\u001b[0m\u001b[0mAccuracy\u001b[0m\u001b[1;33m(\u001b[0m\u001b[1;33m)\u001b[0m\u001b[1;33m\u001b[0m\u001b[1;33m\u001b[0m\u001b[0m\n\u001b[0;32m     25\u001b[0m ri.evaluate.progressive_val_score(stream, randTree, randTreeMetric,\n\u001b[1;32m---> 26\u001b[1;33m                                   print_every = 5000, show_time = True, show_memory = True);\n\u001b[0m",
      "\u001b[1;32m~\\miniconda3\\envs\\EvolutionTradeML\\lib\\site-packages\\river\\evaluate\\progressive_validation.py\u001b[0m in \u001b[0;36mprogressive_val_score\u001b[1;34m(dataset, model, metric, moment, delay, print_every, show_time, show_memory, **print_kwargs)\u001b[0m\n\u001b[0;32m    238\u001b[0m     )\n\u001b[0;32m    239\u001b[0m \u001b[1;33m\u001b[0m\u001b[0m\n\u001b[1;32m--> 240\u001b[1;33m     \u001b[1;32mfor\u001b[0m \u001b[0mcheckpoint\u001b[0m \u001b[1;32min\u001b[0m \u001b[0mcheckpoints\u001b[0m\u001b[1;33m:\u001b[0m\u001b[1;33m\u001b[0m\u001b[1;33m\u001b[0m\u001b[0m\n\u001b[0m\u001b[0;32m    241\u001b[0m \u001b[1;33m\u001b[0m\u001b[0m\n\u001b[0;32m    242\u001b[0m         \u001b[0mmsg\u001b[0m \u001b[1;33m=\u001b[0m \u001b[1;34mf\"[{checkpoint['Step']:,d}] {metric}\"\u001b[0m\u001b[1;33m\u001b[0m\u001b[1;33m\u001b[0m\u001b[0m\n",
      "\u001b[1;32m~\\miniconda3\\envs\\EvolutionTradeML\\lib\\site-packages\\river\\evaluate\\progressive_validation.py\u001b[0m in \u001b[0;36m_progressive_validation\u001b[1;34m(dataset, model, metric, checkpoints, moment, delay, measure_time, measure_memory)\u001b[0m\n\u001b[0;32m     41\u001b[0m         \u001b[0mstart\u001b[0m \u001b[1;33m=\u001b[0m \u001b[0mtime\u001b[0m\u001b[1;33m.\u001b[0m\u001b[0mperf_counter\u001b[0m\u001b[1;33m(\u001b[0m\u001b[1;33m)\u001b[0m\u001b[1;33m\u001b[0m\u001b[1;33m\u001b[0m\u001b[0m\n\u001b[0;32m     42\u001b[0m \u001b[1;33m\u001b[0m\u001b[0m\n\u001b[1;32m---> 43\u001b[1;33m     \u001b[1;32mfor\u001b[0m \u001b[0mi\u001b[0m\u001b[1;33m,\u001b[0m \u001b[0mx\u001b[0m\u001b[1;33m,\u001b[0m \u001b[0my\u001b[0m\u001b[1;33m,\u001b[0m \u001b[1;33m*\u001b[0m\u001b[0mkwargs\u001b[0m \u001b[1;32min\u001b[0m \u001b[0mstream\u001b[0m\u001b[1;33m.\u001b[0m\u001b[0msimulate_qa\u001b[0m\u001b[1;33m(\u001b[0m\u001b[0mdataset\u001b[0m\u001b[1;33m,\u001b[0m \u001b[0mmoment\u001b[0m\u001b[1;33m,\u001b[0m \u001b[0mdelay\u001b[0m\u001b[1;33m,\u001b[0m \u001b[0mcopy\u001b[0m\u001b[1;33m=\u001b[0m\u001b[1;32mTrue\u001b[0m\u001b[1;33m)\u001b[0m\u001b[1;33m:\u001b[0m\u001b[1;33m\u001b[0m\u001b[1;33m\u001b[0m\u001b[0m\n\u001b[0m\u001b[0;32m     44\u001b[0m \u001b[1;33m\u001b[0m\u001b[0m\n\u001b[0;32m     45\u001b[0m         \u001b[0mkwargs\u001b[0m \u001b[1;33m=\u001b[0m \u001b[0mkwargs\u001b[0m\u001b[1;33m[\u001b[0m\u001b[1;36m0\u001b[0m\u001b[1;33m]\u001b[0m \u001b[1;32mif\u001b[0m \u001b[0mkwargs\u001b[0m \u001b[1;32melse\u001b[0m \u001b[1;33m{\u001b[0m\u001b[1;33m}\u001b[0m\u001b[1;33m\u001b[0m\u001b[1;33m\u001b[0m\u001b[0m\n",
      "\u001b[1;32m~\\miniconda3\\envs\\EvolutionTradeML\\lib\\site-packages\\river\\stream\\qa.py\u001b[0m in \u001b[0;36msimulate_qa\u001b[1;34m(dataset, moment, delay, copy)\u001b[0m\n\u001b[0;32m    158\u001b[0m     \u001b[0mmementos\u001b[0m\u001b[1;33m:\u001b[0m \u001b[0mtyping\u001b[0m\u001b[1;33m.\u001b[0m\u001b[0mList\u001b[0m\u001b[1;33m[\u001b[0m\u001b[0mMemento\u001b[0m\u001b[1;33m]\u001b[0m \u001b[1;33m=\u001b[0m \u001b[1;33m[\u001b[0m\u001b[1;33m]\u001b[0m\u001b[1;33m\u001b[0m\u001b[1;33m\u001b[0m\u001b[0m\n\u001b[0;32m    159\u001b[0m \u001b[1;33m\u001b[0m\u001b[0m\n\u001b[1;32m--> 160\u001b[1;33m     \u001b[1;32mfor\u001b[0m \u001b[0mi\u001b[0m\u001b[1;33m,\u001b[0m \u001b[1;33m(\u001b[0m\u001b[0mx\u001b[0m\u001b[1;33m,\u001b[0m \u001b[0my\u001b[0m\u001b[1;33m,\u001b[0m \u001b[1;33m*\u001b[0m\u001b[0mkwargs\u001b[0m\u001b[1;33m)\u001b[0m \u001b[1;32min\u001b[0m \u001b[0menumerate\u001b[0m\u001b[1;33m(\u001b[0m\u001b[0mdataset\u001b[0m\u001b[1;33m)\u001b[0m\u001b[1;33m:\u001b[0m\u001b[1;33m\u001b[0m\u001b[1;33m\u001b[0m\u001b[0m\n\u001b[0m\u001b[0;32m    161\u001b[0m \u001b[1;33m\u001b[0m\u001b[0m\n\u001b[0;32m    162\u001b[0m         \u001b[0mkwargs\u001b[0m \u001b[1;33m=\u001b[0m \u001b[0mkwargs\u001b[0m\u001b[1;33m[\u001b[0m\u001b[1;36m0\u001b[0m\u001b[1;33m]\u001b[0m \u001b[1;32mif\u001b[0m \u001b[0mkwargs\u001b[0m \u001b[1;32melse\u001b[0m \u001b[1;32mNone\u001b[0m\u001b[1;33m\u001b[0m\u001b[1;33m\u001b[0m\u001b[0m\n",
      "\u001b[1;32m~\\miniconda3\\envs\\EvolutionTradeML\\lib\\site-packages\\river\\datasets\\synth\\concept_drift_stream.py\u001b[0m in \u001b[0;36m__iter__\u001b[1;34m(self)\u001b[0m\n\u001b[0;32m    145\u001b[0m                     \u001b[0mx\u001b[0m\u001b[1;33m,\u001b[0m \u001b[0my\u001b[0m \u001b[1;33m=\u001b[0m \u001b[0mnext\u001b[0m\u001b[1;33m(\u001b[0m\u001b[0mstream_generator\u001b[0m\u001b[1;33m)\u001b[0m\u001b[1;33m\u001b[0m\u001b[1;33m\u001b[0m\u001b[0m\n\u001b[0;32m    146\u001b[0m                 \u001b[1;32melse\u001b[0m\u001b[1;33m:\u001b[0m\u001b[1;33m\u001b[0m\u001b[1;33m\u001b[0m\u001b[0m\n\u001b[1;32m--> 147\u001b[1;33m                     \u001b[0mx\u001b[0m\u001b[1;33m,\u001b[0m \u001b[0my\u001b[0m \u001b[1;33m=\u001b[0m \u001b[0mnext\u001b[0m\u001b[1;33m(\u001b[0m\u001b[0mdrift_stream_generator\u001b[0m\u001b[1;33m)\u001b[0m\u001b[1;33m\u001b[0m\u001b[1;33m\u001b[0m\u001b[0m\n\u001b[0m\u001b[0;32m    148\u001b[0m             \u001b[1;32mexcept\u001b[0m \u001b[0mStopIteration\u001b[0m\u001b[1;33m:\u001b[0m\u001b[1;33m\u001b[0m\u001b[1;33m\u001b[0m\u001b[0m\n\u001b[0;32m    149\u001b[0m                 \u001b[1;32mbreak\u001b[0m\u001b[1;33m\u001b[0m\u001b[1;33m\u001b[0m\u001b[0m\n",
      "\u001b[1;32m~\\miniconda3\\envs\\EvolutionTradeML\\lib\\site-packages\\river\\datasets\\synth\\agrawal.py\u001b[0m in \u001b[0;36m__iter__\u001b[1;34m(self)\u001b[0m\n\u001b[0;32m    203\u001b[0m             \u001b[0mx\u001b[0m \u001b[1;33m=\u001b[0m \u001b[0mdict\u001b[0m\u001b[1;33m(\u001b[0m\u001b[1;33m)\u001b[0m\u001b[1;33m\u001b[0m\u001b[1;33m\u001b[0m\u001b[0m\n\u001b[0;32m    204\u001b[0m             \u001b[1;32mfor\u001b[0m \u001b[0mfeature\u001b[0m \u001b[1;32min\u001b[0m \u001b[0mself\u001b[0m\u001b[1;33m.\u001b[0m\u001b[0mfeature_names\u001b[0m\u001b[1;33m:\u001b[0m\u001b[1;33m\u001b[0m\u001b[1;33m\u001b[0m\u001b[0m\n\u001b[1;32m--> 205\u001b[1;33m                 \u001b[0mx\u001b[0m\u001b[1;33m[\u001b[0m\u001b[0mfeature\u001b[0m\u001b[1;33m]\u001b[0m \u001b[1;33m=\u001b[0m \u001b[0meval\u001b[0m\u001b[1;33m(\u001b[0m\u001b[0mfeature\u001b[0m\u001b[1;33m)\u001b[0m\u001b[1;33m\u001b[0m\u001b[1;33m\u001b[0m\u001b[0m\n\u001b[0m\u001b[0;32m    206\u001b[0m \u001b[1;33m\u001b[0m\u001b[0m\n\u001b[0;32m    207\u001b[0m             \u001b[1;32myield\u001b[0m \u001b[0mx\u001b[0m\u001b[1;33m,\u001b[0m \u001b[0my\u001b[0m\u001b[1;33m\u001b[0m\u001b[1;33m\u001b[0m\u001b[0m\n",
      "\u001b[1;32m~\\miniconda3\\envs\\EvolutionTradeML\\lib\\site-packages\\river\\datasets\\synth\\agrawal.py\u001b[0m in \u001b[0;36m<module>\u001b[1;34m\u001b[0m\n",
      "\u001b[1;31mKeyboardInterrupt\u001b[0m: "
     ]
    }
   ],
   "source": [
    "# stream = ri.synth.ConceptDriftStream(stream=ri.synth.SEA(seed=42, noise =.28, variant =2),\n",
    "#                                      drift_stream=ri.synth.SEA(seed=42, noise =.28, variant =3),\n",
    "#                                      seed=42, position=24975,\n",
    "#                                      width=50).take(50000)\n",
    "\n",
    "# stream = ri.synth.LEDDrift(seed = 42, noise_percentage = 0.28,\n",
    "#                           irrelevant_features= True, n_drift_features=4).take(2000)\n",
    "\n",
    "# stream = ri.synth.RandomRBFDrift(seed_model=42, seed_sample=42,\n",
    "#                                 n_classes=4, n_features=4, n_centroids=20,\n",
    "#                                 change_speed=1.2, n_drift_centroids=10).take(50000)\n",
    "\n",
    "# stream = ri.sywnth.ConceptDriftStream(seed=42, position=24975, width=50).take(50000)\n",
    "\n",
    "stream = ri.synth.ConceptDriftStream(stream=ri.synth.Agrawal(seed=42, \n",
    "                                                             perturbation = .25, classification_function =0),\n",
    "                                     drift_stream=ri.synth.Agrawal(seed=42, \n",
    "                                                                   perturbation = .1, classification_function = 2),\n",
    "                                     seed=42, position=24900,\n",
    "                                     width=200).take(50000)\n",
    "    \n",
    "randTree = ri.tree.HoeffdingTreeClassifier()\n",
    "\n",
    "randTreeMetric = ri.metrics.Accuracy()\n",
    "ri.evaluate.progressive_val_score(stream, randTree, randTreeMetric,\n",
    "                                  print_every = 5000, show_time = True, show_memory = True);"
   ]
  },
  {
   "cell_type": "code",
   "execution_count": 3,
   "id": "ea2ebb60",
   "metadata": {},
   "outputs": [
    {
     "name": "stdout",
     "output_type": "stream",
     "text": [
      "[5,000] Accuracy: 69.19% – 00:00:05 – 71.01 KB\n",
      "[10,000] Accuracy: 70.49% – 00:00:11 – 143.31 KB\n",
      "[15,000] Accuracy: 71.34% – 00:00:18 – 192.15 KB\n",
      "[20,000] Accuracy: 72.08% – 00:00:25 – 240.39 KB\n",
      "[25,000] Accuracy: 72.76% – 00:00:32 – 265.06 KB\n",
      "[30,000] Accuracy: 71.50% – 00:00:41 – 94.49 KB\n",
      "[35,000] Accuracy: 73.56% – 00:00:46 – 190.08 KB\n",
      "[40,000] Accuracy: 76.10% – 00:00:52 – 323.65 KB\n",
      "[45,000] Accuracy: 78.19% – 00:00:58 – 403.16 KB\n",
      "[50,000] Accuracy: 79.91% – 00:01:05 – 424.33 KB\n"
     ]
    }
   ],
   "source": [
    "# stream = ri.synth.ConceptDriftStream(stream=ri.synth.SEA(seed=42, noise =.28, variant =2),\n",
    "#                                      drift_stream=ri.synth.SEA(seed=42, noise =.28, variant =3),\n",
    "#                                      seed=42, position=24975,\n",
    "#                                      width=50).take(50000)\n",
    "\n",
    "# stream = ri.synth.LEDDrift(seed = 42, noise_percentage = 0.28,\n",
    "#                           irrelevant_features= True, n_drift_features=4).take(2000)\n",
    "\n",
    "# stream = ri.synth.RandomRBFDrift(seed_model=42, seed_sample=42,\n",
    "#                                 n_classes=4, n_features=4, n_centroids=20,\n",
    "#                                 change_speed=1.2, n_drift_centroids=10).take(50000)\n",
    "\n",
    "# stream = ri.synth.ConceptDriftStream(seed=42, position=24975, width=50).take(50000)\n",
    "\n",
    "stream = ri.synth.ConceptDriftStream(stream=ri.synth.Agrawal(seed=42, \n",
    "                                                             perturbation = .25, classification_function =0),\n",
    "                                     drift_stream=ri.synth.Agrawal(seed=42, \n",
    "                                                                   perturbation = .1, classification_function = 2),\n",
    "                                     seed=42, position=24900,\n",
    "                                     width=200).take(50000)\n",
    "\n",
    "adaptiveRandTree = ri.tree.HoeffdingAdaptiveTreeClassifier(seed=42)\n",
    "\n",
    "adaptRandTreeMetric = ri.metrics.Accuracy()\n",
    "ri.evaluate.progressive_val_score(stream, adaptiveRandTree, adaptRandTreeMetric,\n",
    "                                  print_every = 5000, show_time = True, show_memory = True);"
   ]
  },
  {
   "cell_type": "code",
   "execution_count": 4,
   "id": "0f4c1d0d",
   "metadata": {},
   "outputs": [
    {
     "name": "stdout",
     "output_type": "stream",
     "text": [
      "[5,000] Accuracy: 69.29% – 00:00:32 – 7.23 MB\n",
      "[10,000] Accuracy: 70.74% – 00:01:07 – 12.86 MB\n",
      "[15,000] Accuracy: 71.02% – 00:01:46 – 20.24 MB\n",
      "[20,000] Accuracy: 71.00% – 00:02:31 – 28.23 MB\n",
      "[25,000] Accuracy: 71.27% – 00:03:21 – 32.83 MB\n",
      "[30,000] Accuracy: 71.14% – 00:04:04 – 5.1 MB\n",
      "[35,000] Accuracy: 73.74% – 00:04:48 – 10.19 MB\n",
      "[40,000] Accuracy: 75.77% – 00:05:26 – 11.64 MB\n",
      "[45,000] Accuracy: 77.52% – 00:06:02 – 12.02 MB\n",
      "[50,000] Accuracy: 78.95% – 00:06:37 – 12.66 MB\n"
     ]
    }
   ],
   "source": [
    "# stream = ri.synth.ConceptDriftStream(stream=ri.synth.SEA(seed=42, noise =.28, variant =2),\n",
    "#                                      drift_stream=ri.synth.SEA(seed=42, noise =.28, variant =3),\n",
    "#                                      seed=42, position=24975,\n",
    "#                                      width=50).take(50000)\n",
    "\n",
    "# stream = ri.synth.LEDDrift(seed = 42, noise_percentage = 0.28,\n",
    "#                           irrelevant_features= True, n_drift_features=4).take(2000)\n",
    "\n",
    "# stream = ri.synth.RandomRBFDrift(seed_model=42, seed_sample=42,\n",
    "#                                 n_classes=4, n_features=4, n_centroids=20,\n",
    "#                                 change_speed=1.2, n_drift_centroids=10).take(50000)\n",
    "\n",
    "# stream = ri.synth.ConceptDriftStream(seed=42, position=49750, width=50).take(100000)\n",
    "\n",
    "stream = ri.synth.ConceptDriftStream(stream=ri.synth.Agrawal(seed=42, \n",
    "                                                             perturbation = .25, classification_function =0),\n",
    "                                     drift_stream=ri.synth.Agrawal(seed=42, \n",
    "                                                                   perturbation = .1, classification_function = 2),\n",
    "                                     seed=42, position=24900,\n",
    "                                     width=200).take(50000)\n",
    "\n",
    "adaptiveRandForest = ri.ensemble.AdaptiveRandomForestClassifier(seed=42)\n",
    "\n",
    "adaptRandForMetric = ri.metrics.Accuracy()\n",
    "ri.evaluate.progressive_val_score(stream, adaptiveRandForest, adaptRandForMetric,\n",
    "                                  print_every = 5000, show_time = True, show_memory = True);"
   ]
  },
  {
   "cell_type": "code",
   "execution_count": 5,
   "id": "18d46b91",
   "metadata": {},
   "outputs": [
    {
     "name": "stdout",
     "output_type": "stream",
     "text": [
      "[5,000] Accuracy: 72.15% – 00:00:30 – 565.09 KB\n",
      "[10,000] Accuracy: 71.86% – 00:01:01 – 964.11 KB\n",
      "[15,000] Accuracy: 71.20% – 00:01:33 – 1.22 MB\n",
      "[20,000] Accuracy: 70.93% – 00:02:03 – 1.54 MB\n",
      "[25,000] Accuracy: 70.91% – 00:02:34 – 1.93 MB\n",
      "[30,000] Accuracy: 71.21% – 00:03:07 – 2.44 MB\n",
      "[35,000] Accuracy: 74.16% – 00:03:34 – 2.95 MB\n",
      "[40,000] Accuracy: 76.68% – 00:03:58 – 3.26 MB\n",
      "[45,000] Accuracy: 78.62% – 00:04:22 – 3.7 MB\n",
      "[50,000] Accuracy: 80.20% – 00:04:45 – 4 MB\n"
     ]
    }
   ],
   "source": [
    "# stream = ri.synth.ConceptDriftStream(stream=ri.synth.Agrawal(seed=42, classification_function =0),\n",
    "#                                      drift_stream=ri.synth.Agrawal(seed=42, classification_function = 2),\n",
    "#                                      seed=42, position=500,\n",
    "#                                      width=50).take(1050)\n",
    "\n",
    "# stream = ri.synth.LEDDrift(seed = 42, noise_percentage = 0.28,\n",
    "#                           irrelevant_features= True, n_drift_features=4).take(2000)\n",
    "\n",
    "# stream = ri.synth.RandomRBFDrift(seed_model=42, seed_sample=42,\n",
    "#                                 n_classes=4, n_features=4, n_centroids=20,\n",
    "#                                 change_speed=0.87, n_drift_centroids=10).take(2000)\n",
    "\n",
    "stream = ri.synth.ConceptDriftStream(stream=ri.synth.Agrawal(seed=42,\n",
    "                                                             perturbation = .25, classification_function =0),\n",
    "                                     drift_stream=ri.synth.Agrawal(seed=42, \n",
    "                                                                   perturbation = .1, classification_function = 2),\n",
    "                                     seed=42, position=24900,\n",
    "                                     width=200).take(50000)\n",
    "\n",
    "adaBoost = ri.ensemble.AdaBoostClassifier(model = ri.tree.HoeffdingTreeClassifier(), \n",
    "                                          seed=42)\n",
    "\n",
    "adaBoostMetric = ri.metrics.Accuracy()\n",
    "ri.evaluate.progressive_val_score(stream, adaBoost, adaBoostMetric,\n",
    "                                  print_every = 5000, show_time = True, show_memory = True);"
   ]
  },
  {
   "cell_type": "code",
   "execution_count": 6,
   "id": "1c324172",
   "metadata": {},
   "outputs": [
    {
     "name": "stdout",
     "output_type": "stream",
     "text": [
      "[5,000] Accuracy: 71.31% – 00:01:03 – 631.41 KB\n",
      "[10,000] Accuracy: 70.99% – 00:02:10 – 1.33 MB\n",
      "[15,000] Accuracy: 70.80% – 00:03:29 – 1.3 MB\n",
      "[20,000] Accuracy: 70.35% – 00:04:54 – 1.76 MB\n",
      "[25,000] Accuracy: 70.40% – 00:06:21 – 1.89 MB\n",
      "[30,000] Accuracy: 73.38% – 00:07:27 – 1.51 MB\n",
      "[35,000] Accuracy: 76.30% – 00:08:15 – 2.31 MB\n",
      "[40,000] Accuracy: 78.53% – 00:09:12 – 2.74 MB\n",
      "[45,000] Accuracy: 80.33% – 00:10:07 – 3.4 MB\n",
      "[50,000] Accuracy: 81.79% – 00:11:05 – 3.7 MB\n"
     ]
    }
   ],
   "source": [
    "# stream = ri.synth.ConceptDriftStream(stream=ri.synth.Agrawal(seed=42, classification_function =0),\n",
    "#                                      drift_stream=ri.synth.Agrawal(seed=42, classification_function = 2),\n",
    "#                                      seed=42, position=500,\n",
    "#                                      width=50).take(1050)\n",
    "\n",
    "# stream = ri.synth.LEDDrift(seed = 42, noise_percentage = 0.28,\n",
    "#                           irrelevant_features= True, n_drift_features=4).take(2000)\n",
    "\n",
    "# stream = ri.synth.RandomRBFDrift(seed_model=42, seed_sample=42,\n",
    "#                                 n_classes=4, n_features=4, n_centroids=20,\n",
    "#                                 change_speed=0.87, n_drift_centroids=10).take(2000)\n",
    "\n",
    "stream = ri.synth.ConceptDriftStream(stream=ri.synth.Agrawal(seed=42, \n",
    "                                                             perturbation = .25, classification_function =0),\n",
    "                                     drift_stream=ri.synth.Agrawal(seed=42, \n",
    "                                                                   perturbation = .1, classification_function = 2),\n",
    "                                     seed=42, position=24900,\n",
    "                                     width=200).take(50000)\n",
    "\n",
    "adaBoost = ri.ensemble.AdaBoostClassifier(model = ri.tree.HoeffdingAdaptiveTreeClassifier(seed=42), \n",
    "                                          seed=42)\n",
    "\n",
    "adaBoostMetric = ri.metrics.Accuracy()\n",
    "ri.evaluate.progressive_val_score(stream, adaBoost, adaBoostMetric,\n",
    "                                  print_every = 5000, show_time = True, show_memory = True);"
   ]
  },
  {
   "cell_type": "code",
   "execution_count": null,
   "id": "15239777",
   "metadata": {},
   "outputs": [],
   "source": []
  }
 ],
 "metadata": {
  "kernelspec": {
   "display_name": "Python 3 (ipykernel)",
   "language": "python",
   "name": "python3"
  },
  "language_info": {
   "codemirror_mode": {
    "name": "ipython",
    "version": 3
   },
   "file_extension": ".py",
   "mimetype": "text/x-python",
   "name": "python",
   "nbconvert_exporter": "python",
   "pygments_lexer": "ipython3",
   "version": "3.7.11"
  }
 },
 "nbformat": 4,
 "nbformat_minor": 5
}
