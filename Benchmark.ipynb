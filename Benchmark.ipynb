{
 "cells": [
  {
   "cell_type": "code",
   "execution_count": 39,
   "id": "b6832482",
   "metadata": {
    "ExecuteTime": {
     "end_time": "2022-04-06T02:41:24.463958Z",
     "start_time": "2022-04-06T02:41:18.710222Z"
    }
   },
   "outputs": [
    {
     "name": "stdout",
     "output_type": "stream",
     "text": [
      "The autoreload extension is already loaded. To reload it, use:\n",
      "  %reload_ext autoreload\n"
     ]
    }
   ],
   "source": [
    "%load_ext autoreload\n",
    "%autoreload 2"
   ]
  },
  {
   "cell_type": "code",
   "execution_count": 40,
   "id": "c084e0b9",
   "metadata": {
    "ExecuteTime": {
     "end_time": "2022-04-06T02:41:26.741159Z",
     "start_time": "2022-04-06T02:41:24.466959Z"
    }
   },
   "outputs": [],
   "source": [
    "%reload_ext autoreload"
   ]
  },
  {
   "cell_type": "code",
   "execution_count": 41,
   "id": "aab80cf7",
   "metadata": {
    "ExecuteTime": {
     "end_time": "2022-04-06T02:41:27.944172Z",
     "start_time": "2022-04-06T02:41:26.743159Z"
    }
   },
   "outputs": [],
   "source": [
    "import river as ri\n",
    "import numpy as np\n",
    "\n",
    "# import test"
   ]
  },
  {
   "cell_type": "code",
   "execution_count": 42,
   "id": "92e871c5",
   "metadata": {
    "ExecuteTime": {
     "end_time": "2022-04-06T02:41:34.006929Z",
     "start_time": "2022-04-06T02:41:27.947156Z"
    }
   },
   "outputs": [
    {
     "name": "stdout",
     "output_type": "stream",
     "text": [
      "[5,000] Accuracy: 66.85% – 00:00:01 – 62.8 KB\n",
      "[10,000] Accuracy: 68.03% – 00:00:02 – 102.5 KB\n",
      "[15,000] Accuracy: 68.55% – 00:00:04 – 142.3 KB\n"
     ]
    },
    {
     "ename": "KeyboardInterrupt",
     "evalue": "",
     "output_type": "error",
     "traceback": [
      "\u001b[1;31m---------------------------------------------------------------------------\u001b[0m",
      "\u001b[1;31mKeyboardInterrupt\u001b[0m                         Traceback (most recent call last)",
      "Input \u001b[1;32mIn [42]\u001b[0m, in \u001b[0;36m<cell line: 14>\u001b[1;34m()\u001b[0m\n\u001b[0;32m     11\u001b[0m \u001b[38;5;66;03m# randTree = htc.HoeffdingTreeClassifier()\u001b[39;00m\n\u001b[0;32m     13\u001b[0m randTreeMetric \u001b[38;5;241m=\u001b[39m ri\u001b[38;5;241m.\u001b[39mmetrics\u001b[38;5;241m.\u001b[39mAccuracy()\n\u001b[1;32m---> 14\u001b[0m \u001b[43mri\u001b[49m\u001b[38;5;241;43m.\u001b[39;49m\u001b[43mevaluate\u001b[49m\u001b[38;5;241;43m.\u001b[39;49m\u001b[43mprogressive_val_score\u001b[49m\u001b[43m(\u001b[49m\u001b[43mstream\u001b[49m\u001b[43m,\u001b[49m\u001b[43m \u001b[49m\u001b[43mrandTree\u001b[49m\u001b[43m,\u001b[49m\u001b[43m \u001b[49m\u001b[43mrandTreeMetric\u001b[49m\u001b[43m,\u001b[49m\n\u001b[0;32m     15\u001b[0m \u001b[43m                                  \u001b[49m\u001b[43mprint_every\u001b[49m\u001b[43m \u001b[49m\u001b[38;5;241;43m=\u001b[39;49m\u001b[43m \u001b[49m\u001b[38;5;241;43m5000\u001b[39;49m\u001b[43m,\u001b[49m\u001b[43m \u001b[49m\u001b[43mshow_time\u001b[49m\u001b[43m \u001b[49m\u001b[38;5;241;43m=\u001b[39;49m\u001b[43m \u001b[49m\u001b[38;5;28;43;01mTrue\u001b[39;49;00m\u001b[43m,\u001b[49m\u001b[43m \u001b[49m\u001b[43mshow_memory\u001b[49m\u001b[43m \u001b[49m\u001b[38;5;241;43m=\u001b[39;49m\u001b[43m \u001b[49m\u001b[38;5;28;43;01mTrue\u001b[39;49;00m\u001b[43m)\u001b[49m\n",
      "File \u001b[1;32mc:\\users\\csung\\desktop\\cis519project\\cis519project\\river\\river\\evaluate\\progressive_validation.py:339\u001b[0m, in \u001b[0;36mprogressive_val_score\u001b[1;34m(dataset, model, metric, moment, delay, print_every, show_time, show_memory, **print_kwargs)\u001b[0m\n\u001b[0;32m    188\u001b[0m \u001b[38;5;124;03m\"\"\"Evaluates the performance of a model on a streaming dataset.\u001b[39;00m\n\u001b[0;32m    189\u001b[0m \n\u001b[0;32m    190\u001b[0m \u001b[38;5;124;03mThis method is the canonical way to evaluate a model's performance. When used correctly, it\u001b[39;00m\n\u001b[1;32m   (...)\u001b[0m\n\u001b[0;32m    325\u001b[0m \n\u001b[0;32m    326\u001b[0m \u001b[38;5;124;03m\"\"\"\u001b[39;00m\n\u001b[0;32m    328\u001b[0m checkpoints \u001b[38;5;241m=\u001b[39m iter_progressive_val_score(\n\u001b[0;32m    329\u001b[0m     dataset\u001b[38;5;241m=\u001b[39mdataset,\n\u001b[0;32m    330\u001b[0m     model\u001b[38;5;241m=\u001b[39mmodel,\n\u001b[1;32m   (...)\u001b[0m\n\u001b[0;32m    336\u001b[0m     measure_memory\u001b[38;5;241m=\u001b[39mshow_memory,\n\u001b[0;32m    337\u001b[0m )\n\u001b[1;32m--> 339\u001b[0m \u001b[38;5;28;01mfor\u001b[39;00m checkpoint \u001b[38;5;129;01min\u001b[39;00m checkpoints:\n\u001b[0;32m    341\u001b[0m     msg \u001b[38;5;241m=\u001b[39m \u001b[38;5;124mf\u001b[39m\u001b[38;5;124m\"\u001b[39m\u001b[38;5;124m[\u001b[39m\u001b[38;5;132;01m{\u001b[39;00mcheckpoint[\u001b[38;5;124m'\u001b[39m\u001b[38;5;124mStep\u001b[39m\u001b[38;5;124m'\u001b[39m]\u001b[38;5;132;01m:\u001b[39;00m\u001b[38;5;124m,d\u001b[39m\u001b[38;5;132;01m}\u001b[39;00m\u001b[38;5;124m] \u001b[39m\u001b[38;5;132;01m{\u001b[39;00mmetric\u001b[38;5;132;01m}\u001b[39;00m\u001b[38;5;124m\"\u001b[39m\n\u001b[0;32m    342\u001b[0m     \u001b[38;5;28;01mif\u001b[39;00m show_time:\n",
      "File \u001b[1;32mc:\\users\\csung\\desktop\\cis519project\\cis519project\\river\\river\\evaluate\\progressive_validation.py:165\u001b[0m, in \u001b[0;36miter_progressive_val_score\u001b[1;34m(dataset, model, metric, moment, delay, step, measure_time, measure_memory)\u001b[0m\n\u001b[0;32m     78\u001b[0m \u001b[38;5;28;01mdef\u001b[39;00m \u001b[38;5;21miter_progressive_val_score\u001b[39m(\n\u001b[0;32m     79\u001b[0m     dataset: base\u001b[38;5;241m.\u001b[39mtyping\u001b[38;5;241m.\u001b[39mDataset,\n\u001b[0;32m     80\u001b[0m     model,\n\u001b[1;32m   (...)\u001b[0m\n\u001b[0;32m     86\u001b[0m     measure_memory\u001b[38;5;241m=\u001b[39m\u001b[38;5;28;01mFalse\u001b[39;00m,\n\u001b[0;32m     87\u001b[0m ) \u001b[38;5;241m-\u001b[39m\u001b[38;5;241m>\u001b[39m metrics\u001b[38;5;241m.\u001b[39mMetric:\n\u001b[0;32m     88\u001b[0m     \u001b[38;5;124;03m\"\"\"Evaluates the performance of a model on a streaming dataset and yields results.\u001b[39;00m\n\u001b[0;32m     89\u001b[0m \n\u001b[0;32m     90\u001b[0m \u001b[38;5;124;03m    This does exactly the same as `evaluate.progressive_val_score`. The only difference is that\u001b[39;00m\n\u001b[1;32m   (...)\u001b[0m\n\u001b[0;32m    162\u001b[0m \n\u001b[0;32m    163\u001b[0m \u001b[38;5;124;03m    \"\"\"\u001b[39;00m\n\u001b[1;32m--> 165\u001b[0m     \u001b[38;5;28;01myield from\u001b[39;00m _progressive_validation(\n\u001b[0;32m    166\u001b[0m         dataset,\n\u001b[0;32m    167\u001b[0m         model,\n\u001b[0;32m    168\u001b[0m         metric,\n\u001b[0;32m    169\u001b[0m         checkpoints\u001b[38;5;241m=\u001b[39mitertools\u001b[38;5;241m.\u001b[39mcount(step, step) \u001b[38;5;28;01mif\u001b[39;00m step \u001b[38;5;28;01melse\u001b[39;00m \u001b[38;5;28miter\u001b[39m([]),\n\u001b[0;32m    170\u001b[0m         moment\u001b[38;5;241m=\u001b[39mmoment,\n\u001b[0;32m    171\u001b[0m         delay\u001b[38;5;241m=\u001b[39mdelay,\n\u001b[0;32m    172\u001b[0m         measure_time\u001b[38;5;241m=\u001b[39mmeasure_time,\n\u001b[0;32m    173\u001b[0m         measure_memory\u001b[38;5;241m=\u001b[39mmeasure_memory,\n\u001b[0;32m    174\u001b[0m     )\n",
      "File \u001b[1;32mc:\\users\\csung\\desktop\\cis519project\\cis519project\\river\\river\\evaluate\\progressive_validation.py:43\u001b[0m, in \u001b[0;36m_progressive_validation\u001b[1;34m(dataset, model, metric, checkpoints, moment, delay, measure_time, measure_memory)\u001b[0m\n\u001b[0;32m     40\u001b[0m \u001b[38;5;28;01mif\u001b[39;00m measure_time:\n\u001b[0;32m     41\u001b[0m     start \u001b[38;5;241m=\u001b[39m time\u001b[38;5;241m.\u001b[39mperf_counter()\n\u001b[1;32m---> 43\u001b[0m \u001b[38;5;28;01mfor\u001b[39;00m i, x, y, \u001b[38;5;241m*\u001b[39mkwargs \u001b[38;5;129;01min\u001b[39;00m stream\u001b[38;5;241m.\u001b[39msimulate_qa(dataset, moment, delay, copy\u001b[38;5;241m=\u001b[39m\u001b[38;5;28;01mTrue\u001b[39;00m):\n\u001b[0;32m     45\u001b[0m     kwargs \u001b[38;5;241m=\u001b[39m kwargs[\u001b[38;5;241m0\u001b[39m] \u001b[38;5;28;01mif\u001b[39;00m kwargs \u001b[38;5;28;01melse\u001b[39;00m {}\n\u001b[0;32m     47\u001b[0m     \u001b[38;5;66;03m# Question\u001b[39;00m\n",
      "File \u001b[1;32mc:\\users\\csung\\desktop\\cis519project\\cis519project\\river\\river\\stream\\qa.py:160\u001b[0m, in \u001b[0;36msimulate_qa\u001b[1;34m(dataset, moment, delay, copy)\u001b[0m\n\u001b[0;32m    156\u001b[0m     get_delay \u001b[38;5;241m=\u001b[39m delay\n\u001b[0;32m    158\u001b[0m mementos: typing\u001b[38;5;241m.\u001b[39mList[Memento] \u001b[38;5;241m=\u001b[39m []\n\u001b[1;32m--> 160\u001b[0m \u001b[38;5;28;01mfor\u001b[39;00m i, (x, y, \u001b[38;5;241m*\u001b[39mkwargs) \u001b[38;5;129;01min\u001b[39;00m \u001b[38;5;28menumerate\u001b[39m(dataset):\n\u001b[0;32m    162\u001b[0m     kwargs \u001b[38;5;241m=\u001b[39m kwargs[\u001b[38;5;241m0\u001b[39m] \u001b[38;5;28;01mif\u001b[39;00m kwargs \u001b[38;5;28;01melse\u001b[39;00m \u001b[38;5;28;01mNone\u001b[39;00m\n\u001b[0;32m    164\u001b[0m     t \u001b[38;5;241m=\u001b[39m get_moment(i, x)\n",
      "File \u001b[1;32mc:\\users\\csung\\desktop\\cis519project\\cis519project\\river\\river\\datasets\\synth\\concept_drift_stream.py:145\u001b[0m, in \u001b[0;36mConceptDriftStream.__iter__\u001b[1;34m(self)\u001b[0m\n\u001b[0;32m    143\u001b[0m \u001b[38;5;28;01mtry\u001b[39;00m:\n\u001b[0;32m    144\u001b[0m     \u001b[38;5;28;01mif\u001b[39;00m rng\u001b[38;5;241m.\u001b[39mrand() \u001b[38;5;241m>\u001b[39m probability_drift:\n\u001b[1;32m--> 145\u001b[0m         x, y \u001b[38;5;241m=\u001b[39m \u001b[38;5;28;43mnext\u001b[39;49m\u001b[43m(\u001b[49m\u001b[43mstream_generator\u001b[49m\u001b[43m)\u001b[49m\n\u001b[0;32m    146\u001b[0m     \u001b[38;5;28;01melse\u001b[39;00m:\n\u001b[0;32m    147\u001b[0m         x, y \u001b[38;5;241m=\u001b[39m \u001b[38;5;28mnext\u001b[39m(drift_stream_generator)\n",
      "File \u001b[1;32mc:\\users\\csung\\desktop\\cis519project\\cis519project\\river\\river\\datasets\\synth\\agrawal.py:177\u001b[0m, in \u001b[0;36mAgrawal.__iter__\u001b[1;34m(self)\u001b[0m\n\u001b[0;32m    175\u001b[0m car \u001b[38;5;241m=\u001b[39m \u001b[38;5;28mself\u001b[39m\u001b[38;5;241m.\u001b[39m_rng\u001b[38;5;241m.\u001b[39mrandint(\u001b[38;5;241m20\u001b[39m)\n\u001b[0;32m    176\u001b[0m zipcode \u001b[38;5;241m=\u001b[39m \u001b[38;5;28mself\u001b[39m\u001b[38;5;241m.\u001b[39m_rng\u001b[38;5;241m.\u001b[39mrandint(\u001b[38;5;241m9\u001b[39m)\n\u001b[1;32m--> 177\u001b[0m hvalue \u001b[38;5;241m=\u001b[39m (\u001b[38;5;241m9\u001b[39m \u001b[38;5;241m-\u001b[39m zipcode) \u001b[38;5;241m*\u001b[39m \u001b[38;5;241m100000\u001b[39m \u001b[38;5;241m*\u001b[39m (\u001b[38;5;241m0.5\u001b[39m \u001b[38;5;241m+\u001b[39m \u001b[38;5;28;43mself\u001b[39;49m\u001b[38;5;241;43m.\u001b[39;49m\u001b[43m_rng\u001b[49m\u001b[38;5;241;43m.\u001b[39;49m\u001b[43mrand\u001b[49m\u001b[43m(\u001b[49m\u001b[43m)\u001b[49m)\n\u001b[0;32m    178\u001b[0m hyears \u001b[38;5;241m=\u001b[39m \u001b[38;5;241m1\u001b[39m \u001b[38;5;241m+\u001b[39m \u001b[38;5;28mself\u001b[39m\u001b[38;5;241m.\u001b[39m_rng\u001b[38;5;241m.\u001b[39mrandint(\u001b[38;5;241m30\u001b[39m)\n\u001b[0;32m    179\u001b[0m loan \u001b[38;5;241m=\u001b[39m \u001b[38;5;28mself\u001b[39m\u001b[38;5;241m.\u001b[39m_rng\u001b[38;5;241m.\u001b[39mrand() \u001b[38;5;241m*\u001b[39m \u001b[38;5;241m500000\u001b[39m\n",
      "\u001b[1;31mKeyboardInterrupt\u001b[0m: "
     ]
    }
   ],
   "source": [
    "stream = ri.synth.ConceptDriftStream(stream=ri.synth.Agrawal(seed=42, \n",
    "                                                             perturbation = .25, classification_function =0),\n",
    "                                     drift_stream=ri.synth.Agrawal(seed=42, \n",
    "                                                                   perturbation = .1, classification_function = 2),\n",
    "                                     seed=42, position=24900,\n",
    "                                     width=200).take(50000)\n",
    "\n",
    "    \n",
    "randTree = ri.tree.IOLINTreeClassifier()\n",
    "\n",
    "# randTree = htc.HoeffdingTreeClassifier()\n",
    "\n",
    "randTreeMetric = ri.metrics.Accuracy()\n",
    "ri.evaluate.progressive_val_score(stream, randTree, randTreeMetric,\n",
    "                                  print_every = 5000, show_time = True, show_memory = True);\n"
   ]
  },
  {
   "cell_type": "code",
   "execution_count": 6,
   "id": "5e51333c",
   "metadata": {
    "ExecuteTime": {
     "end_time": "2022-04-06T00:54:22.296618Z",
     "start_time": "2022-04-06T00:54:19.790702Z"
    }
   },
   "outputs": [
    {
     "name": "stdout",
     "output_type": "stream",
     "text": [
      "THIS IS DEFINITELY WORKING\n"
     ]
    },
    {
     "ename": "KeyboardInterrupt",
     "evalue": "",
     "output_type": "error",
     "traceback": [
      "\u001b[1;31m---------------------------------------------------------------------------\u001b[0m",
      "\u001b[1;31mKeyboardInterrupt\u001b[0m                         Traceback (most recent call last)",
      "Input \u001b[1;32mIn [6]\u001b[0m, in \u001b[0;36m<cell line: 25>\u001b[1;34m()\u001b[0m\n\u001b[0;32m     22\u001b[0m randTree \u001b[38;5;241m=\u001b[39m ri\u001b[38;5;241m.\u001b[39mtree\u001b[38;5;241m.\u001b[39mHoeffdingTreeClassifier()\n\u001b[0;32m     24\u001b[0m randTreeMetric \u001b[38;5;241m=\u001b[39m ri\u001b[38;5;241m.\u001b[39mmetrics\u001b[38;5;241m.\u001b[39mAccuracy()\n\u001b[1;32m---> 25\u001b[0m \u001b[43mri\u001b[49m\u001b[38;5;241;43m.\u001b[39;49m\u001b[43mevaluate\u001b[49m\u001b[38;5;241;43m.\u001b[39;49m\u001b[43mprogressive_val_score\u001b[49m\u001b[43m(\u001b[49m\u001b[43mstream\u001b[49m\u001b[43m,\u001b[49m\u001b[43m \u001b[49m\u001b[43mrandTree\u001b[49m\u001b[43m,\u001b[49m\u001b[43m \u001b[49m\u001b[43mrandTreeMetric\u001b[49m\u001b[43m,\u001b[49m\n\u001b[0;32m     26\u001b[0m \u001b[43m                                  \u001b[49m\u001b[43mprint_every\u001b[49m\u001b[43m \u001b[49m\u001b[38;5;241;43m=\u001b[39;49m\u001b[43m \u001b[49m\u001b[38;5;241;43m5000\u001b[39;49m\u001b[43m,\u001b[49m\u001b[43m \u001b[49m\u001b[43mshow_time\u001b[49m\u001b[43m \u001b[49m\u001b[38;5;241;43m=\u001b[39;49m\u001b[43m \u001b[49m\u001b[38;5;28;43;01mTrue\u001b[39;49;00m\u001b[43m,\u001b[49m\u001b[43m \u001b[49m\u001b[43mshow_memory\u001b[49m\u001b[43m \u001b[49m\u001b[38;5;241;43m=\u001b[39;49m\u001b[43m \u001b[49m\u001b[38;5;28;43;01mTrue\u001b[39;49;00m\u001b[43m)\u001b[49m\n",
      "File \u001b[1;32mc:\\users\\csung\\desktop\\cis519project\\cis519project\\river\\river\\evaluate\\progressive_validation.py:339\u001b[0m, in \u001b[0;36mprogressive_val_score\u001b[1;34m(dataset, model, metric, moment, delay, print_every, show_time, show_memory, **print_kwargs)\u001b[0m\n\u001b[0;32m    188\u001b[0m \u001b[38;5;124;03m\"\"\"Evaluates the performance of a model on a streaming dataset.\u001b[39;00m\n\u001b[0;32m    189\u001b[0m \n\u001b[0;32m    190\u001b[0m \u001b[38;5;124;03mThis method is the canonical way to evaluate a model's performance. When used correctly, it\u001b[39;00m\n\u001b[1;32m   (...)\u001b[0m\n\u001b[0;32m    325\u001b[0m \n\u001b[0;32m    326\u001b[0m \u001b[38;5;124;03m\"\"\"\u001b[39;00m\n\u001b[0;32m    328\u001b[0m checkpoints \u001b[38;5;241m=\u001b[39m iter_progressive_val_score(\n\u001b[0;32m    329\u001b[0m     dataset\u001b[38;5;241m=\u001b[39mdataset,\n\u001b[0;32m    330\u001b[0m     model\u001b[38;5;241m=\u001b[39mmodel,\n\u001b[1;32m   (...)\u001b[0m\n\u001b[0;32m    336\u001b[0m     measure_memory\u001b[38;5;241m=\u001b[39mshow_memory,\n\u001b[0;32m    337\u001b[0m )\n\u001b[1;32m--> 339\u001b[0m \u001b[38;5;28;01mfor\u001b[39;00m checkpoint \u001b[38;5;129;01min\u001b[39;00m checkpoints:\n\u001b[0;32m    341\u001b[0m     msg \u001b[38;5;241m=\u001b[39m \u001b[38;5;124mf\u001b[39m\u001b[38;5;124m\"\u001b[39m\u001b[38;5;124m[\u001b[39m\u001b[38;5;132;01m{\u001b[39;00mcheckpoint[\u001b[38;5;124m'\u001b[39m\u001b[38;5;124mStep\u001b[39m\u001b[38;5;124m'\u001b[39m]\u001b[38;5;132;01m:\u001b[39;00m\u001b[38;5;124m,d\u001b[39m\u001b[38;5;132;01m}\u001b[39;00m\u001b[38;5;124m] \u001b[39m\u001b[38;5;132;01m{\u001b[39;00mmetric\u001b[38;5;132;01m}\u001b[39;00m\u001b[38;5;124m\"\u001b[39m\n\u001b[0;32m    342\u001b[0m     \u001b[38;5;28;01mif\u001b[39;00m show_time:\n",
      "File \u001b[1;32mc:\\users\\csung\\desktop\\cis519project\\cis519project\\river\\river\\evaluate\\progressive_validation.py:165\u001b[0m, in \u001b[0;36miter_progressive_val_score\u001b[1;34m(dataset, model, metric, moment, delay, step, measure_time, measure_memory)\u001b[0m\n\u001b[0;32m     78\u001b[0m \u001b[38;5;28;01mdef\u001b[39;00m \u001b[38;5;21miter_progressive_val_score\u001b[39m(\n\u001b[0;32m     79\u001b[0m     dataset: base\u001b[38;5;241m.\u001b[39mtyping\u001b[38;5;241m.\u001b[39mDataset,\n\u001b[0;32m     80\u001b[0m     model,\n\u001b[1;32m   (...)\u001b[0m\n\u001b[0;32m     86\u001b[0m     measure_memory\u001b[38;5;241m=\u001b[39m\u001b[38;5;28;01mFalse\u001b[39;00m,\n\u001b[0;32m     87\u001b[0m ) \u001b[38;5;241m-\u001b[39m\u001b[38;5;241m>\u001b[39m metrics\u001b[38;5;241m.\u001b[39mMetric:\n\u001b[0;32m     88\u001b[0m     \u001b[38;5;124;03m\"\"\"Evaluates the performance of a model on a streaming dataset and yields results.\u001b[39;00m\n\u001b[0;32m     89\u001b[0m \n\u001b[0;32m     90\u001b[0m \u001b[38;5;124;03m    This does exactly the same as `evaluate.progressive_val_score`. The only difference is that\u001b[39;00m\n\u001b[1;32m   (...)\u001b[0m\n\u001b[0;32m    162\u001b[0m \n\u001b[0;32m    163\u001b[0m \u001b[38;5;124;03m    \"\"\"\u001b[39;00m\n\u001b[1;32m--> 165\u001b[0m     \u001b[38;5;28;01myield from\u001b[39;00m _progressive_validation(\n\u001b[0;32m    166\u001b[0m         dataset,\n\u001b[0;32m    167\u001b[0m         model,\n\u001b[0;32m    168\u001b[0m         metric,\n\u001b[0;32m    169\u001b[0m         checkpoints\u001b[38;5;241m=\u001b[39mitertools\u001b[38;5;241m.\u001b[39mcount(step, step) \u001b[38;5;28;01mif\u001b[39;00m step \u001b[38;5;28;01melse\u001b[39;00m \u001b[38;5;28miter\u001b[39m([]),\n\u001b[0;32m    170\u001b[0m         moment\u001b[38;5;241m=\u001b[39mmoment,\n\u001b[0;32m    171\u001b[0m         delay\u001b[38;5;241m=\u001b[39mdelay,\n\u001b[0;32m    172\u001b[0m         measure_time\u001b[38;5;241m=\u001b[39mmeasure_time,\n\u001b[0;32m    173\u001b[0m         measure_memory\u001b[38;5;241m=\u001b[39mmeasure_memory,\n\u001b[0;32m    174\u001b[0m     )\n",
      "File \u001b[1;32mc:\\users\\csung\\desktop\\cis519project\\cis519project\\river\\river\\evaluate\\progressive_validation.py:49\u001b[0m, in \u001b[0;36m_progressive_validation\u001b[1;34m(dataset, model, metric, checkpoints, moment, delay, measure_time, measure_memory)\u001b[0m\n\u001b[0;32m     47\u001b[0m \u001b[38;5;66;03m# Question\u001b[39;00m\n\u001b[0;32m     48\u001b[0m \u001b[38;5;28;01mif\u001b[39;00m y \u001b[38;5;129;01mis\u001b[39;00m \u001b[38;5;28;01mNone\u001b[39;00m:\n\u001b[1;32m---> 49\u001b[0m     preds[i] \u001b[38;5;241m=\u001b[39m pred_func(x\u001b[38;5;241m=\u001b[39mx, \u001b[38;5;241m*\u001b[39m\u001b[38;5;241m*\u001b[39mkwargs)\n\u001b[0;32m     50\u001b[0m     \u001b[38;5;28;01mcontinue\u001b[39;00m\n\u001b[0;32m     52\u001b[0m \u001b[38;5;66;03m# Answer\u001b[39;00m\n",
      "File \u001b[1;32mc:\\users\\csung\\desktop\\cis519project\\cis519project\\river\\river\\base\\classifier.py:69\u001b[0m, in \u001b[0;36mClassifier.predict_one\u001b[1;34m(self, x)\u001b[0m\n\u001b[0;32m     54\u001b[0m \u001b[38;5;124;03m\"\"\"Predict the label of a set of features `x`.\u001b[39;00m\n\u001b[0;32m     55\u001b[0m \n\u001b[0;32m     56\u001b[0m \u001b[38;5;124;03mParameters\u001b[39;00m\n\u001b[1;32m   (...)\u001b[0m\n\u001b[0;32m     64\u001b[0m \n\u001b[0;32m     65\u001b[0m \u001b[38;5;124;03m\"\"\"\u001b[39;00m\n\u001b[0;32m     67\u001b[0m \u001b[38;5;66;03m# The following code acts as a default for each classifier, and may be overridden on an\u001b[39;00m\n\u001b[0;32m     68\u001b[0m \u001b[38;5;66;03m# individual basis.\u001b[39;00m\n\u001b[1;32m---> 69\u001b[0m y_pred \u001b[38;5;241m=\u001b[39m \u001b[38;5;28;43mself\u001b[39;49m\u001b[38;5;241;43m.\u001b[39;49m\u001b[43mpredict_proba_one\u001b[49m\u001b[43m(\u001b[49m\u001b[43mx\u001b[49m\u001b[43m)\u001b[49m\n\u001b[0;32m     70\u001b[0m \u001b[38;5;28;01mif\u001b[39;00m y_pred:\n\u001b[0;32m     71\u001b[0m     \u001b[38;5;28;01mreturn\u001b[39;00m \u001b[38;5;28mmax\u001b[39m(y_pred, key\u001b[38;5;241m=\u001b[39my_pred\u001b[38;5;241m.\u001b[39mget)\n",
      "File \u001b[1;32mc:\\users\\csung\\desktop\\cis519project\\cis519project\\river\\river\\tree\\hoeffding_tree_classifier.py:415\u001b[0m, in \u001b[0;36mHoeffdingTreeClassifier.predict_proba_one\u001b[1;34m(self, x)\u001b[0m\n\u001b[0;32m    412\u001b[0m     \u001b[38;5;28;01melse\u001b[39;00m:\n\u001b[0;32m    413\u001b[0m         leaf \u001b[38;5;241m=\u001b[39m \u001b[38;5;28mself\u001b[39m\u001b[38;5;241m.\u001b[39m_root\n\u001b[1;32m--> 415\u001b[0m     proba\u001b[38;5;241m.\u001b[39mupdate(\u001b[43mleaf\u001b[49m\u001b[38;5;241;43m.\u001b[39;49m\u001b[43mprediction\u001b[49m\u001b[43m(\u001b[49m\u001b[43mx\u001b[49m\u001b[43m,\u001b[49m\u001b[43m \u001b[49m\u001b[43mtree\u001b[49m\u001b[38;5;241;43m=\u001b[39;49m\u001b[38;5;28;43mself\u001b[39;49m\u001b[43m)\u001b[49m)\n\u001b[0;32m    416\u001b[0m \u001b[38;5;28;01mreturn\u001b[39;00m proba\n",
      "File \u001b[1;32mc:\\users\\csung\\desktop\\cis519project\\cis519project\\river\\river\\tree\\nodes\\htc_nodes.py:201\u001b[0m, in \u001b[0;36mLeafNaiveBayesAdaptive.prediction\u001b[1;34m(self, x, tree)\u001b[0m\n\u001b[0;32m    186\u001b[0m \u001b[38;5;124;03m\"\"\"Get the probabilities per class for a given instance.\u001b[39;00m\n\u001b[0;32m    187\u001b[0m \n\u001b[0;32m    188\u001b[0m \u001b[38;5;124;03mParameters\u001b[39;00m\n\u001b[1;32m   (...)\u001b[0m\n\u001b[0;32m    198\u001b[0m \n\u001b[0;32m    199\u001b[0m \u001b[38;5;124;03m\"\"\"\u001b[39;00m\n\u001b[0;32m    200\u001b[0m \u001b[38;5;28;01mif\u001b[39;00m \u001b[38;5;28mself\u001b[39m\u001b[38;5;241m.\u001b[39mis_active() \u001b[38;5;129;01mand\u001b[39;00m \u001b[38;5;28mself\u001b[39m\u001b[38;5;241m.\u001b[39m_nb_correct_weight \u001b[38;5;241m>\u001b[39m\u001b[38;5;241m=\u001b[39m \u001b[38;5;28mself\u001b[39m\u001b[38;5;241m.\u001b[39m_mc_correct_weight:\n\u001b[1;32m--> 201\u001b[0m     \u001b[38;5;28;01mreturn\u001b[39;00m \u001b[43mdo_naive_bayes_prediction\u001b[49m\u001b[43m(\u001b[49m\u001b[43mx\u001b[49m\u001b[43m,\u001b[49m\u001b[43m \u001b[49m\u001b[38;5;28;43mself\u001b[39;49m\u001b[38;5;241;43m.\u001b[39;49m\u001b[43mstats\u001b[49m\u001b[43m,\u001b[49m\u001b[43m \u001b[49m\u001b[38;5;28;43mself\u001b[39;49m\u001b[38;5;241;43m.\u001b[39;49m\u001b[43msplitters\u001b[49m\u001b[43m)\u001b[49m\n\u001b[0;32m    202\u001b[0m \u001b[38;5;28;01melse\u001b[39;00m:\n\u001b[0;32m    203\u001b[0m     \u001b[38;5;28;01mreturn\u001b[39;00m \u001b[38;5;28msuper\u001b[39m()\u001b[38;5;241m.\u001b[39mprediction(x)\n",
      "File \u001b[1;32mc:\\users\\csung\\desktop\\cis519project\\cis519project\\river\\river\\tree\\utils.py:53\u001b[0m, in \u001b[0;36mdo_naive_bayes_prediction\u001b[1;34m(x, observed_class_distribution, splitters)\u001b[0m\n\u001b[0;32m     51\u001b[0m             obs \u001b[38;5;241m=\u001b[39m splitters[att_idx]\n\u001b[0;32m     52\u001b[0m             \u001b[38;5;66;03m# Prior plus the log likelihood\u001b[39;00m\n\u001b[1;32m---> 53\u001b[0m             tmp \u001b[38;5;241m=\u001b[39m \u001b[43mobs\u001b[49m\u001b[38;5;241;43m.\u001b[39;49m\u001b[43mcond_proba\u001b[49m\u001b[43m(\u001b[49m\u001b[43mx\u001b[49m\u001b[43m[\u001b[49m\u001b[43matt_idx\u001b[49m\u001b[43m]\u001b[49m\u001b[43m,\u001b[49m\u001b[43m \u001b[49m\u001b[43mclass_index\u001b[49m\u001b[43m)\u001b[49m\n\u001b[0;32m     54\u001b[0m             votes[class_index] \u001b[38;5;241m+\u001b[39m\u001b[38;5;241m=\u001b[39m math\u001b[38;5;241m.\u001b[39mlog(tmp) \u001b[38;5;28;01mif\u001b[39;00m tmp \u001b[38;5;241m>\u001b[39m \u001b[38;5;241m0\u001b[39m \u001b[38;5;28;01melse\u001b[39;00m \u001b[38;5;241m0.0\u001b[39m\n\u001b[0;32m     56\u001b[0m \u001b[38;5;66;03m# Max log-likelihood\u001b[39;00m\n",
      "File \u001b[1;32mc:\\users\\csung\\desktop\\cis519project\\cis519project\\river\\river\\tree\\splitter\\gaussian_splitter.py:53\u001b[0m, in \u001b[0;36mGaussianSplitter.cond_proba\u001b[1;34m(self, att_val, target_val)\u001b[0m\n\u001b[0;32m     51\u001b[0m \u001b[38;5;28;01mif\u001b[39;00m target_val \u001b[38;5;129;01min\u001b[39;00m \u001b[38;5;28mself\u001b[39m\u001b[38;5;241m.\u001b[39m_att_dist_per_class:\n\u001b[0;32m     52\u001b[0m     obs \u001b[38;5;241m=\u001b[39m \u001b[38;5;28mself\u001b[39m\u001b[38;5;241m.\u001b[39m_att_dist_per_class[target_val]\n\u001b[1;32m---> 53\u001b[0m     \u001b[38;5;28;01mreturn\u001b[39;00m \u001b[43mobs\u001b[49m\u001b[38;5;241;43m.\u001b[39;49m\u001b[43mpdf\u001b[49m\u001b[43m(\u001b[49m\u001b[43matt_val\u001b[49m\u001b[43m)\u001b[49m\n\u001b[0;32m     54\u001b[0m \u001b[38;5;28;01melse\u001b[39;00m:\n\u001b[0;32m     55\u001b[0m     \u001b[38;5;28;01mreturn\u001b[39;00m \u001b[38;5;241m0.0\u001b[39m\n",
      "File \u001b[1;32mc:\\users\\csung\\desktop\\cis519project\\cis519project\\river\\river\\proba\\gaussian.py:64\u001b[0m, in \u001b[0;36mGaussian.pdf\u001b[1;34m(self, x)\u001b[0m\n\u001b[0;32m     62\u001b[0m \u001b[38;5;28;01mif\u001b[39;00m var:\n\u001b[0;32m     63\u001b[0m     \u001b[38;5;28;01mtry\u001b[39;00m:\n\u001b[1;32m---> 64\u001b[0m         \u001b[38;5;28;01mreturn\u001b[39;00m \u001b[43mmath\u001b[49m\u001b[38;5;241;43m.\u001b[39;49m\u001b[43mexp\u001b[49m\u001b[43m(\u001b[49m\u001b[43m(\u001b[49m\u001b[43mx\u001b[49m\u001b[43m \u001b[49m\u001b[38;5;241;43m-\u001b[39;49m\u001b[43m \u001b[49m\u001b[38;5;28;43mself\u001b[39;49m\u001b[38;5;241;43m.\u001b[39;49m\u001b[43mmu\u001b[49m\u001b[43m)\u001b[49m\u001b[43m \u001b[49m\u001b[38;5;241;43m*\u001b[39;49m\u001b[38;5;241;43m*\u001b[39;49m\u001b[43m \u001b[49m\u001b[38;5;241;43m2\u001b[39;49m\u001b[43m \u001b[49m\u001b[38;5;241;43m/\u001b[39;49m\u001b[43m \u001b[49m\u001b[43m(\u001b[49m\u001b[38;5;241;43m-\u001b[39;49m\u001b[38;5;241;43m2\u001b[39;49m\u001b[43m \u001b[49m\u001b[38;5;241;43m*\u001b[39;49m\u001b[43m \u001b[49m\u001b[43mvar\u001b[49m\u001b[43m)\u001b[49m\u001b[43m)\u001b[49m \u001b[38;5;241m/\u001b[39m math\u001b[38;5;241m.\u001b[39msqrt(\n\u001b[0;32m     65\u001b[0m             math\u001b[38;5;241m.\u001b[39mtau \u001b[38;5;241m*\u001b[39m var\n\u001b[0;32m     66\u001b[0m         )\n\u001b[0;32m     67\u001b[0m     \u001b[38;5;28;01mexcept\u001b[39;00m \u001b[38;5;167;01mValueError\u001b[39;00m:\n\u001b[0;32m     68\u001b[0m         \u001b[38;5;28;01mreturn\u001b[39;00m \u001b[38;5;241m0.0\u001b[39m\n",
      "\u001b[1;31mKeyboardInterrupt\u001b[0m: "
     ]
    }
   ],
   "source": [
    "# stream = ri.synth.ConceptDriftStream(stream=ri.synth.SEA(seed=42, noise =.28, variant =2),\n",
    "#                                      drift_stream=ri.synth.SEA(seed=42, noise =.28, variant =3),\n",
    "#                                      seed=42, position=24975,\n",
    "#                                      width=50).take(50000)\n",
    "\n",
    "# stream = ri.synth.LEDDrift(seed = 42, noise_percentage = 0.28,\n",
    "#                           irrelevant_features= True, n_drift_features=4).take(2000)\n",
    "\n",
    "# stream = ri.synth.RandomRBFDrift(seed_model=42, seed_sample=42,\n",
    "#                                 n_classes=4, n_features=4, n_centroids=20,\n",
    "#                                 change_speed=1.2, n_drift_centroids=10).take(50000)\n",
    "\n",
    "# stream = ri.sywnth.ConceptDriftStream(seed=42, position=24975, width=50).take(50000)\n",
    "\n",
    "stream = ri.synth.ConceptDriftStream(stream=ri.synth.Agrawal(seed=42, \n",
    "                                                             perturbation = .25, classification_function =0),\n",
    "                                     drift_stream=ri.synth.Agrawal(seed=42, \n",
    "                                                                   perturbation = .1, classification_function = 2),\n",
    "                                     seed=42, position=24900,\n",
    "                                     width=200).take(50000)\n",
    "    \n",
    "randTree = ri.tree.HoeffdingTreeClassifier()\n",
    "\n",
    "randTreeMetric = ri.metrics.Accuracy()\n",
    "ri.evaluate.progressive_val_score(stream, randTree, randTreeMetric,\n",
    "                                  print_every = 5000, show_time = True, show_memory = True);"
   ]
  },
  {
   "cell_type": "code",
   "execution_count": 3,
   "id": "ea2ebb60",
   "metadata": {},
   "outputs": [
    {
     "name": "stdout",
     "output_type": "stream",
     "text": [
      "[5,000] Accuracy: 69.19% – 00:00:05 – 71.01 KB\n",
      "[10,000] Accuracy: 70.49% – 00:00:11 – 143.31 KB\n",
      "[15,000] Accuracy: 71.34% – 00:00:18 – 192.15 KB\n",
      "[20,000] Accuracy: 72.08% – 00:00:25 – 240.39 KB\n",
      "[25,000] Accuracy: 72.76% – 00:00:32 – 265.06 KB\n",
      "[30,000] Accuracy: 71.50% – 00:00:41 – 94.49 KB\n",
      "[35,000] Accuracy: 73.56% – 00:00:46 – 190.08 KB\n",
      "[40,000] Accuracy: 76.10% – 00:00:52 – 323.65 KB\n",
      "[45,000] Accuracy: 78.19% – 00:00:58 – 403.16 KB\n",
      "[50,000] Accuracy: 79.91% – 00:01:05 – 424.33 KB\n"
     ]
    }
   ],
   "source": [
    "# stream = ri.synth.ConceptDriftStream(stream=ri.synth.SEA(seed=42, noise =.28, variant =2),\n",
    "#                                      drift_stream=ri.synth.SEA(seed=42, noise =.28, variant =3),\n",
    "#                                      seed=42, position=24975,\n",
    "#                                      width=50).take(50000)\n",
    "\n",
    "# stream = ri.synth.LEDDrift(seed = 42, noise_percentage = 0.28,\n",
    "#                           irrelevant_features= True, n_drift_features=4).take(2000)\n",
    "\n",
    "# stream = ri.synth.RandomRBFDrift(seed_model=42, seed_sample=42,\n",
    "#                                 n_classes=4, n_features=4, n_centroids=20,\n",
    "#                                 change_speed=1.2, n_drift_centroids=10).take(50000)\n",
    "\n",
    "# stream = ri.synth.ConceptDriftStream(seed=42, position=24975, width=50).take(50000)\n",
    "\n",
    "stream = ri.synth.ConceptDriftStream(stream=ri.synth.Agrawal(seed=42, \n",
    "                                                             perturbation = .25, classification_function =0),\n",
    "                                     drift_stream=ri.synth.Agrawal(seed=42, \n",
    "                                                                   perturbation = .1, classification_function = 2),\n",
    "                                     seed=42, position=24900,\n",
    "                                     width=200).take(50000)\n",
    "\n",
    "adaptiveRandTree = ri.tree.HoeffdingAdaptiveTreeClassifier(seed=42)\n",
    "\n",
    "adaptRandTreeMetric = ri.metrics.Accuracy()\n",
    "ri.evaluate.progressive_val_score(stream, adaptiveRandTree, adaptRandTreeMetric,\n",
    "                                  print_every = 5000, show_time = True, show_memory = True);"
   ]
  },
  {
   "cell_type": "code",
   "execution_count": 4,
   "id": "0f4c1d0d",
   "metadata": {},
   "outputs": [
    {
     "name": "stdout",
     "output_type": "stream",
     "text": [
      "[5,000] Accuracy: 69.29% – 00:00:32 – 7.23 MB\n",
      "[10,000] Accuracy: 70.74% – 00:01:07 – 12.86 MB\n",
      "[15,000] Accuracy: 71.02% – 00:01:46 – 20.24 MB\n",
      "[20,000] Accuracy: 71.00% – 00:02:31 – 28.23 MB\n",
      "[25,000] Accuracy: 71.27% – 00:03:21 – 32.83 MB\n",
      "[30,000] Accuracy: 71.14% – 00:04:04 – 5.1 MB\n",
      "[35,000] Accuracy: 73.74% – 00:04:48 – 10.19 MB\n",
      "[40,000] Accuracy: 75.77% – 00:05:26 – 11.64 MB\n",
      "[45,000] Accuracy: 77.52% – 00:06:02 – 12.02 MB\n",
      "[50,000] Accuracy: 78.95% – 00:06:37 – 12.66 MB\n"
     ]
    }
   ],
   "source": [
    "# stream = ri.synth.ConceptDriftStream(stream=ri.synth.SEA(seed=42, noise =.28, variant =2),\n",
    "#                                      drift_stream=ri.synth.SEA(seed=42, noise =.28, variant =3),\n",
    "#                                      seed=42, position=24975,\n",
    "#                                      width=50).take(50000)\n",
    "\n",
    "# stream = ri.synth.LEDDrift(seed = 42, noise_percentage = 0.28,\n",
    "#                           irrelevant_features= True, n_drift_features=4).take(2000)\n",
    "\n",
    "# stream = ri.synth.RandomRBFDrift(seed_model=42, seed_sample=42,\n",
    "#                                 n_classes=4, n_features=4, n_centroids=20,\n",
    "#                                 change_speed=1.2, n_drift_centroids=10).take(50000)\n",
    "\n",
    "# stream = ri.synth.ConceptDriftStream(seed=42, position=49750, width=50).take(100000)\n",
    "\n",
    "stream = ri.synth.ConceptDriftStream(stream=ri.synth.Agrawal(seed=42, \n",
    "                                                             perturbation = .25, classification_function =0),\n",
    "                                     drift_stream=ri.synth.Agrawal(seed=42, \n",
    "                                                                   perturbation = .1, classification_function = 2),\n",
    "                                     seed=42, position=24900,\n",
    "                                     width=200).take(50000)\n",
    "\n",
    "adaptiveRandForest = ri.ensemble.AdaptiveRandomForestClassifier(seed=42)\n",
    "\n",
    "adaptRandForMetric = ri.metrics.Accuracy()\n",
    "ri.evaluate.progressive_val_score(stream, adaptiveRandForest, adaptRandForMetric,\n",
    "                                  print_every = 5000, show_time = True, show_memory = True);"
   ]
  },
  {
   "cell_type": "code",
   "execution_count": 5,
   "id": "18d46b91",
   "metadata": {},
   "outputs": [
    {
     "name": "stdout",
     "output_type": "stream",
     "text": [
      "[5,000] Accuracy: 72.15% – 00:00:30 – 565.09 KB\n",
      "[10,000] Accuracy: 71.86% – 00:01:01 – 964.11 KB\n",
      "[15,000] Accuracy: 71.20% – 00:01:33 – 1.22 MB\n",
      "[20,000] Accuracy: 70.93% – 00:02:03 – 1.54 MB\n",
      "[25,000] Accuracy: 70.91% – 00:02:34 – 1.93 MB\n",
      "[30,000] Accuracy: 71.21% – 00:03:07 – 2.44 MB\n",
      "[35,000] Accuracy: 74.16% – 00:03:34 – 2.95 MB\n",
      "[40,000] Accuracy: 76.68% – 00:03:58 – 3.26 MB\n",
      "[45,000] Accuracy: 78.62% – 00:04:22 – 3.7 MB\n",
      "[50,000] Accuracy: 80.20% – 00:04:45 – 4 MB\n"
     ]
    }
   ],
   "source": [
    "# stream = ri.synth.ConceptDriftStream(stream=ri.synth.Agrawal(seed=42, classification_function =0),\n",
    "#                                      drift_stream=ri.synth.Agrawal(seed=42, classification_function = 2),\n",
    "#                                      seed=42, position=500,\n",
    "#                                      width=50).take(1050)\n",
    "\n",
    "# stream = ri.synth.LEDDrift(seed = 42, noise_percentage = 0.28,\n",
    "#                           irrelevant_features= True, n_drift_features=4).take(2000)\n",
    "\n",
    "# stream = ri.synth.RandomRBFDrift(seed_model=42, seed_sample=42,\n",
    "#                                 n_classes=4, n_features=4, n_centroids=20,\n",
    "#                                 change_speed=0.87, n_drift_centroids=10).take(2000)\n",
    "\n",
    "stream = ri.synth.ConceptDriftStream(stream=ri.synth.Agrawal(seed=42,\n",
    "                                                             perturbation = .25, classification_function =0),\n",
    "                                     drift_stream=ri.synth.Agrawal(seed=42, \n",
    "                                                                   perturbation = .1, classification_function = 2),\n",
    "                                     seed=42, position=24900,\n",
    "                                     width=200).take(50000)\n",
    "\n",
    "adaBoost = ri.ensemble.AdaBoostClassifier(model = ri.tree.HoeffdingTreeClassifier(), \n",
    "                                          seed=42)\n",
    "\n",
    "adaBoostMetric = ri.metrics.Accuracy()\n",
    "ri.evaluate.progressive_val_score(stream, adaBoost, adaBoostMetric,\n",
    "                                  print_every = 5000, show_time = True, show_memory = True);"
   ]
  },
  {
   "cell_type": "code",
   "execution_count": 6,
   "id": "1c324172",
   "metadata": {},
   "outputs": [
    {
     "name": "stdout",
     "output_type": "stream",
     "text": [
      "[5,000] Accuracy: 71.31% – 00:01:03 – 631.41 KB\n",
      "[10,000] Accuracy: 70.99% – 00:02:10 – 1.33 MB\n",
      "[15,000] Accuracy: 70.80% – 00:03:29 – 1.3 MB\n",
      "[20,000] Accuracy: 70.35% – 00:04:54 – 1.76 MB\n",
      "[25,000] Accuracy: 70.40% – 00:06:21 – 1.89 MB\n",
      "[30,000] Accuracy: 73.38% – 00:07:27 – 1.51 MB\n",
      "[35,000] Accuracy: 76.30% – 00:08:15 – 2.31 MB\n",
      "[40,000] Accuracy: 78.53% – 00:09:12 – 2.74 MB\n",
      "[45,000] Accuracy: 80.33% – 00:10:07 – 3.4 MB\n",
      "[50,000] Accuracy: 81.79% – 00:11:05 – 3.7 MB\n"
     ]
    }
   ],
   "source": [
    "# stream = ri.synth.ConceptDriftStream(stream=ri.synth.Agrawal(seed=42, classification_function =0),\n",
    "#                                      drift_stream=ri.synth.Agrawal(seed=42, classification_function = 2),\n",
    "#                                      seed=42, position=500,\n",
    "#                                      width=50).take(1050)\n",
    "\n",
    "# stream = ri.synth.LEDDrift(seed = 42, noise_percentage = 0.28,\n",
    "#                           irrelevant_features= True, n_drift_features=4).take(2000)\n",
    "\n",
    "# stream = ri.synth.RandomRBFDrift(seed_model=42, seed_sample=42,\n",
    "#                                 n_classes=4, n_features=4, n_centroids=20,\n",
    "#                                 change_speed=0.87, n_drift_centroids=10).take(2000)\n",
    "\n",
    "stream = ri.synth.ConceptDriftStream(stream=ri.synth.Agrawal(seed=42, \n",
    "                                                             perturbation = .25, classification_function =0),\n",
    "                                     drift_stream=ri.synth.Agrawal(seed=42, \n",
    "                                                                   perturbation = .1, classification_function = 2),\n",
    "                                     seed=42, position=24900,\n",
    "                                     width=200).take(50000)\n",
    "\n",
    "adaBoost = ri.ensemble.AdaBoostClassifier(model = ri.tree.HoeffdingAdaptiveTreeClassifier(seed=42), \n",
    "                                          seed=42)\n",
    "\n",
    "adaBoostMetric = ri.metrics.Accuracy()\n",
    "ri.evaluate.progressive_val_score(stream, adaBoost, adaBoostMetric,\n",
    "                                  print_every = 5000, show_time = True, show_memory = True);"
   ]
  },
  {
   "cell_type": "code",
   "execution_count": null,
   "id": "15239777",
   "metadata": {},
   "outputs": [],
   "source": []
  }
 ],
 "metadata": {
  "kernelspec": {
   "display_name": "Python 3 (ipykernel)",
   "language": "python",
   "name": "python3"
  },
  "language_info": {
   "codemirror_mode": {
    "name": "ipython",
    "version": 3
   },
   "file_extension": ".py",
   "mimetype": "text/x-python",
   "name": "python",
   "nbconvert_exporter": "python",
   "pygments_lexer": "ipython3",
   "version": "3.10.4"
  }
 },
 "nbformat": 4,
 "nbformat_minor": 5
}
